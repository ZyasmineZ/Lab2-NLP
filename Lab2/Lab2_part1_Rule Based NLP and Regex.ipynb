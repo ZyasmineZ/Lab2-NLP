{
 "cells": [
  {
   "cell_type": "code",
   "execution_count": 90,
   "id": "063cf248-e420-451c-a593-cb63969b874b",
   "metadata": {},
   "outputs": [],
   "source": [
    "import re\n",
    "from nltk.corpus import stopwords # !pip install nltk\n",
    "from nltk.tokenize import word_tokenize\n",
    "from word2number import w2n # !pip install word2number"
   ]
  },
  {
   "cell_type": "code",
   "execution_count": 99,
   "id": "563bb3fd-a76a-4738-8a2c-d9c9ffc751f2",
   "metadata": {},
   "outputs": [
    {
     "name": "stdout",
     "output_type": "stream",
     "text": [
      "Cleaned Text:\n",
      "bought 3 samsung smartphones 150 $ , 4 banana 1.2 $ kilogram , 1 hamburger 4.5 $ .\n"
     ]
    }
   ],
   "source": [
    "def preprocess_text(text):\n",
    "    # Convert text to lowercase\n",
    "    text = text.lower()\n",
    "\n",
    "    # Replace 'dollar' or 'dollars' with '$', accounting for end of sentence or periods\n",
    "    text = re.sub(r'\\b(dollars?)(?=\\s|\\.$|$)', '$', text)\n",
    "\n",
    "    # Replace comma in numbers with dot\n",
    "    text = re.sub(r'(\\d+),(\\d+)', r'\\1.\\2', text)\n",
    "    \n",
    "    # Tokenize the text\n",
    "    tokens = word_tokenize(text)\n",
    "\n",
    "    # Convert words representing numbers to digits\n",
    "    tokens = [str(w2n.word_to_num(token)) if token in w2n.american_number_system else token for token in tokens]\n",
    "    \n",
    "    # Lists of descriptors and units to be removed\n",
    "    descriptors = ['fresh', 'beautiful', 'big', 'small', 'vibrant', 'fragrant', 'colorful', 'delicate', 'crisp', 'luscious', 'elegant', 'juicy', 'tender', 'aromatic', 'radiant', 'exquisite', 'flavorful', 'picturesque', 'charming']\n",
    "    units = ['kilos', 'grams', 'pounds', 'liters', 'milliliters', 'pieces', 'bunches', 'cups', 'teaspoons', 'tablespoons', 'slices', 'servings', 'bottles', 'cans', 'packets', 'boxes', 'bags', 'jars', 'bars', 'pots', 'containers', 'plates', 'bowls', 'glasses', 'pints', 'quarts', 'gallons', 'ounces', 'milligrams', 'micrograms', 'centimeters', 'inches', 'feet', 'meters', 'yards', 'kilometers', 'miles', 'square meters', 'square feet', 'cubic meters', 'cubic feet', 'degrees Celsius', 'degrees Fahrenheit', 'seconds', 'minutes', 'hours', 'days', 'weeks', 'months', 'years']\n",
    "\n",
    "    # Remove stopwords and words from descriptors and units lists\n",
    "    stop_words = set(stopwords.words('english'))\n",
    "    tokens = [token for token in tokens if token not in stop_words and token not in descriptors and token not in units]\n",
    "    \n",
    "    # Join the tokens back into a string\n",
    "    clean_text = ' '.join(tokens)\n",
    "    \n",
    "    return clean_text\n",
    "\n",
    "# Sample text\n",
    "input_text = \"I bought three Samsung smartphones 150 $ each, four kilos of fresh banana for 1,2 dollar a kilogram, one Hamburger with 4,5 dollar.\"\n",
    "\n",
    "# Preprocess the input text\n",
    "cleaned_text = preprocess_text(input_text)\n",
    "\n",
    "print(\"Cleaned Text:\")\n",
    "print(cleaned_text)"
   ]
  },
  {
   "cell_type": "code",
   "execution_count": 100,
   "id": "5a943195-b376-4a19-b595-045ec0befa1a",
   "metadata": {},
   "outputs": [
    {
     "name": "stdout",
     "output_type": "stream",
     "text": [
      "Product              Quantity   Unit Price   Total Price \n",
      "------------------------------------------------------------\n",
      "samsung smartphones  3          150.0        450.0       \n",
      "banana               4          1.2          4.8         \n",
      "hamburger            1          4.5          4.5         \n"
     ]
    }
   ],
   "source": [
    "def extract_product_details(text):\n",
    "    # Regex pattern to match product details\n",
    "    # This pattern looks for a number (quantity), followed by the product name, followed by the price,\n",
    "    pattern = r\"(\\d+)\\s([a-z\\s]+)\\s+(\\d+(?:\\.\\d+)?)\\s+\\$\"\n",
    "    \n",
    "    # Find all matches in the text\n",
    "    matches = re.findall(pattern, text)\n",
    "    \n",
    "    # Process matches to calculate total price and format the details\n",
    "    product_details = []\n",
    "    for quantity, name, unit_price in matches:\n",
    "        quantity = int(quantity)\n",
    "        unit_price = float(unit_price)\n",
    "        total_price = quantity * unit_price\n",
    "        product_details.append({\n",
    "            'Product Name': name.strip(),\n",
    "            'Quantity': quantity,\n",
    "            'Unit Price': unit_price,\n",
    "            'Total Price': total_price\n",
    "        })\n",
    "    \n",
    "    return product_details\n",
    "\n",
    "# Extract product details\n",
    "product_details = extract_product_details(cleaned_text)\n",
    "\n",
    "# Display the extracted details in a table format\n",
    "print(f\"{'Product':<20} {'Quantity':<10} {'Unit Price':<12} {'Total Price':<12}\")\n",
    "print('-' * 60)  # Print a line for the header\n",
    "\n",
    "for detail in product_details:\n",
    "    print(f\"{detail['Product Name']:<20} {detail['Quantity']:<10} {detail['Unit Price']:<12} {detail['Total Price']:<12}\")"
   ]
  },
  {
   "cell_type": "code",
   "execution_count": null,
   "id": "b8ed3706-f3d8-44af-88b2-c5c902fb66db",
   "metadata": {},
   "outputs": [],
   "source": []
  }
 ],
 "metadata": {
  "kernelspec": {
   "display_name": "Python 3 (ipykernel)",
   "language": "python",
   "name": "python3"
  },
  "language_info": {
   "codemirror_mode": {
    "name": "ipython",
    "version": 3
   },
   "file_extension": ".py",
   "mimetype": "text/x-python",
   "name": "python",
   "nbconvert_exporter": "python",
   "pygments_lexer": "ipython3",
   "version": "3.12.2"
  }
 },
 "nbformat": 4,
 "nbformat_minor": 5
}
